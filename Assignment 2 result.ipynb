{
 "cells": [
  {
   "cell_type": "markdown",
   "metadata": {},
   "source": [
    "# Solution of assignment 2"
   ]
  },
  {
   "cell_type": "code",
   "execution_count": 13,
   "metadata": {},
   "outputs": [
    {
     "name": "stdout",
     "output_type": "stream",
     "text": [
      "10\n"
     ]
    }
   ],
   "source": [
    "#task1 (1.1)\n",
    "def do_sum(x1, x2): \n",
    "    return x1 + x2\n",
    "\n",
    "def my_reduce(func, seq):\n",
    "    first = seq[0]\n",
    "    for i in seq[1:]:\n",
    "        first = func(first, i)\n",
    "    return first\n",
    "\n",
    "print(my_reduce(do_sum, [1, 2, 3, 4]))\n",
    "\n"
   ]
  },
  {
   "cell_type": "code",
   "execution_count": 16,
   "metadata": {},
   "outputs": [],
   "source": [
    "#task1(1.2)\n",
    "def even_check(num):\n",
    "    if num%4 ==0:\n",
    "        return True"
   ]
  },
  {
   "cell_type": "code",
   "execution_count": 9,
   "metadata": {},
   "outputs": [
    {
     "data": {
      "text/plain": [
       "[4, 8]"
      ]
     },
     "execution_count": 9,
     "metadata": {},
     "output_type": "execute_result"
    }
   ],
   "source": [
    "lst =[1,2,3,4,5,6,7,8]\n",
    "\n",
    "list(filter(even_check,lst))"
   ]
  },
  {
   "cell_type": "code",
   "execution_count": 10,
   "metadata": {},
   "outputs": [
    {
     "data": {
      "text/plain": [
       "[False, False, False, True, False, False, False, True]"
      ]
     },
     "execution_count": 10,
     "metadata": {},
     "output_type": "execute_result"
    }
   ],
   "source": [
    " list(map(lambda x: x%4==0,lst))"
   ]
  },
  {
   "cell_type": "code",
   "execution_count": 15,
   "metadata": {},
   "outputs": [
    {
     "name": "stdout",
     "output_type": "stream",
     "text": [
      "['A', 'C', 'A', 'D', 'G', 'I', 'L', 'D']\n",
      "['x', 'xx', 'xxx', 'xxxx', 'y', 'yy', 'yyy', 'yyyy', 'z', 'zz', 'zzz', 'zzzz']\n",
      "['x', 'y', 'z', 'xx', 'yy', 'zz', 'xxx', 'yyy', 'zzz', 'xxxx', 'yyyy', 'zzzz']\n",
      "[[2], [3], [4], [3], [4], [5], [4], [5], [6]]\n",
      "[[2, 3, 4, 5], [3, 4, 5, 6], [4, 5, 6, 7], [5, 6, 7, 8]]\n",
      "[(1, 1), (2, 1), (3, 1), (1, 2), (2, 2), (3, 2), (1, 3), (2, 3), (3, 3)]\n"
     ]
    }
   ],
   "source": [
    "# task1.(2) \n",
    "l = [i for i in 'ACADGILD']\n",
    "print(l)\n",
    "\n",
    "list1 = [i * j for j in ['x', 'y', 'z'] for i in range(1, 5)]\n",
    "print(list1)\n",
    "\n",
    "list2 = [i * j for j in range(1, 5) for i in ['x', 'y', 'z']]\n",
    "print(list2)\n",
    "\n",
    "list3 = [[i + j] for j in [0, 1, 2] for i in range(2, 5)]\n",
    "print(list3)\n",
    "\n",
    "list4 = [[i + j for j in [0, 1, 2, 3]] for i in range(2, 6)]\n",
    "print(list4)\n",
    "\n",
    "list5 = [(i,j) for j in [1, 2, 3] for i in [1, 2, 3]]\n",
    "print(list5)"
   ]
  },
  {
   "cell_type": "code",
   "execution_count": 17,
   "metadata": {},
   "outputs": [
    {
     "name": "stdout",
     "output_type": "stream",
     "text": [
      "Education\n"
     ]
    }
   ],
   "source": [
    "#task1 (3)\n",
    "def find_longest_word(words_list):\n",
    "    word_len = []\n",
    "    for n in words_list:\n",
    "        word_len.append((len(n), n))\n",
    "    word_len.sort()\n",
    "    return word_len[-1][1]\n",
    "\n",
    "print(find_longest_word([\"VIK\", \"Education\", \"civil\"]))\n"
   ]
  },
  {
   "cell_type": "code",
   "execution_count": 30,
   "metadata": {},
   "outputs": [
    {
     "name": "stdout",
     "output_type": "stream",
     "text": [
      "6.0\n",
      "There are 3 sides.\n"
     ]
    }
   ],
   "source": [
    "#task2 (1.1)\n",
    "class Polygon:\n",
    "\n",
    "    def __init__(self, n):\n",
    "        self.number_of_sides = n\n",
    "\n",
    "    def print_num_sides(self):\n",
    "        '''a quick, informational print statement'''\n",
    "        print('There are ' + str(self.number_of_sides) + ' sides.')\n",
    "        \n",
    "class Triangle(Polygon):\n",
    "\n",
    "    def __init__(self, lengths_of_sides):\n",
    "        Polygon.__init__(self, 3)\n",
    "        self.lengths_of_sides = lengths_of_sides  # list of three numbers\n",
    "\n",
    "    def get_area(self):\n",
    "        '''return the area of the triangle using the semi-perimeter method'''\n",
    "        a, b, c = self.lengths_of_sides\n",
    "\n",
    "        # calculate the semi-perimeter\n",
    "        s = (a + b + c) / 2\n",
    "        return (s*(s-a)*(s-b)*(s-c)) ** 0.5\n",
    "    \n",
    "\n",
    "tri = Triangle([3, 4, 5])\n",
    "print(tri.get_area())\n",
    "tri.print_num_sides()"
   ]
  },
  {
   "cell_type": "code",
   "execution_count": 12,
   "metadata": {},
   "outputs": [
    {
     "name": "stdout",
     "output_type": "stream",
     "text": [
      "['change', 'that', 'wish', 'world']\n"
     ]
    }
   ],
   "source": [
    "#Task2 (1.2)\n",
    "def long_words(n, str):\n",
    "    word_len = []\n",
    "    txt = str.split(\" \")\n",
    "    for x in txt:\n",
    "        if len(x) > n:\n",
    "            word_len.append(x)\n",
    "    return word_len\t\n",
    "print(long_words(3, \"be the change that you wish to see in the world\"))"
   ]
  },
  {
   "cell_type": "code",
   "execution_count": 33,
   "metadata": {},
   "outputs": [
    {
     "name": "stdout",
     "output_type": "stream",
     "text": [
      "[2, 3, 4]\n",
      "[2, 3, 4]\n"
     ]
    }
   ],
   "source": [
    "#task2(2.1)\n",
    "def map_to_lengths_for(words):\n",
    "    lengths = []\n",
    "    for word in words:\n",
    "        lengths.append(len(word))\n",
    "    return lengths\n",
    "\n",
    "\n",
    "def map_to_lengths_map(words):\n",
    "    return map(len, words)\n",
    "\n",
    "\n",
    "def map_to_lengths_lists(words):\n",
    "    return [len(word) for word in words]\n",
    "\n",
    "\n",
    "if __name__ == \"__main__\":\n",
    "    words = ['ab', 'cde', 'erty']\n",
    "    print(map_to_lengths_for(words))\n",
    "    list(map_to_lengths_map(words))\n",
    "    print(map_to_lengths_lists(words))"
   ]
  },
  {
   "cell_type": "code",
   "execution_count": 32,
   "metadata": {},
   "outputs": [
    {
     "name": "stdout",
     "output_type": "stream",
     "text": [
      "False\n",
      "True\n",
      "False\n"
     ]
    }
   ],
   "source": [
    "#task2(2.2)\n",
    "def is_vowel(char):\n",
    "    vowels = ('a', 'e', 'i', 'o', 'u')\n",
    "    if char not in vowels:\n",
    "        return False\n",
    "    return True\n",
    "\n",
    "\n",
    "if __name__ == \"__main__\":\n",
    "    print(is_vowel(1))\n",
    "    print(is_vowel('a'))\n",
    "    print(is_vowel('b'))"
   ]
  },
  {
   "cell_type": "code",
   "execution_count": null,
   "metadata": {},
   "outputs": [],
   "source": []
  }
 ],
 "metadata": {
  "kernelspec": {
   "display_name": "Python 3",
   "language": "python",
   "name": "python3"
  },
  "language_info": {
   "codemirror_mode": {
    "name": "ipython",
    "version": 3
   },
   "file_extension": ".py",
   "mimetype": "text/x-python",
   "name": "python",
   "nbconvert_exporter": "python",
   "pygments_lexer": "ipython3",
   "version": "3.7.6"
  }
 },
 "nbformat": 4,
 "nbformat_minor": 4
}
